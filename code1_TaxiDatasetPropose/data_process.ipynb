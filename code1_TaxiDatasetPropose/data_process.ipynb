{
 "cells": [
  {
   "cell_type": "code",
   "execution_count": null,
   "metadata": {},
   "outputs": [],
   "source": [
    "import pandas as pd\n",
    "import datetime\n",
    "from datetime import timedelta\n",
    "import pickle\n",
    "import numpy as np\n",
    "import matplotlib.pyplot as plt"
   ]
  },
  {
   "cell_type": "markdown",
   "metadata": {},
   "source": [
    "1. **经度lng，对应h；维度lat，对应w**: grid[lat.ind][lng.ind]\n",
    "2. 由于w和h相等，代码中没有对他们进行区分。"
   ]
  },
  {
   "cell_type": "markdown",
   "metadata": {},
   "source": [
    "# Build Grid"
   ]
  },
  {
   "cell_type": "markdown",
   "metadata": {},
   "source": [
    "## Find boundary of grid"
   ]
  },
  {
   "cell_type": "code",
   "execution_count": null,
   "metadata": {},
   "outputs": [],
   "source": [
    "find_boundary_of_gride_mode=False\n",
    "\n",
    "if find_boundary_of_gride_mode==True:\n",
    "    # tol_len is 3486*40000\n",
    "    reader = pd.read_csv('H:\\时空预测\\code1_TaxiDatasetPropose\\Chicago Taxi\\Taxi_Trips\\Taxi_Trips.csv', chunksize=40000)\n",
    "\n",
    "    max_lat,min_lat,max_lng,min_lng=-1000, 1000, -1000, 1000\n",
    "    for chunk in reader:\n",
    "        max_lat = max(max_lat, max(chunk['Pickup Centroid Latitude']))\n",
    "        min_lat = min(min_lat, min(chunk['Pickup Centroid Latitude']))\n",
    "        max_lng = max(max_lng, max(chunk['Pickup Centroid Longitude']))\n",
    "        min_lng = min(min_lng, min(chunk['Pickup Centroid Longitude']))\n",
    "    print(max_lat, min_lat, max_lng, min_lng)\n",
    "else:\n",
    "    max_lat,min_lat,max_lng,min_lng=42.021223593, 41.650221676, -87.529950466, -87.913624596"
   ]
  },
  {
   "cell_type": "markdown",
   "metadata": {},
   "source": [
    "## define grid (w $\\times$ h)"
   ]
  },
  {
   "cell_type": "code",
   "execution_count": null,
   "metadata": {},
   "outputs": [],
   "source": [
    "w,h=30,30\n",
    "\n",
    "def get_grid_index(lat, lng):\n",
    "    print(lat, lng)\n",
    "    print(min_lat, max_lat, min_lng, max_lng)\n",
    "    assert lat >= min_lat and lat <= max_lat\n",
    "    assert lng >= min_lng and lng <= max_lng\n",
    "    unit_lat=(max_lat-min_lat)/h\n",
    "    unit_lng=(max_lng-min_lng)/w\n",
    "    # lower_left of grid[i][j], 0<=i,j<30\n",
    "    return int((lat-min_lat)/unit_lat) if lat<max_lat else h-1, int((lng-min_lng)/unit_lng) if lng<max_lng else w-1"
   ]
  },
  {
   "cell_type": "code",
   "execution_count": null,
   "metadata": {},
   "outputs": [],
   "source": [
    "unit_lat=(max_lat-min_lat)/h\n",
    "unit_lng=(max_lng-min_lng)/w\n",
    "print(unit_lat, unit_lng)"
   ]
  },
  {
   "cell_type": "markdown",
   "metadata": {},
   "source": [
    "## build TrafficGrid"
   ]
  },
  {
   "cell_type": "code",
   "execution_count": null,
   "metadata": {},
   "outputs": [],
   "source": [
    "begin_time=datetime.datetime.strptime('2013-01-01 12:00:00 PM', '%Y-%m-%d %I:%M:%S %p')\n",
    "end_time=datetime.datetime.strptime('2022-04-01 12:00:00 PM', '%Y-%m-%d %I:%M:%S %p')\n",
    "td_15min = timedelta(days=0, seconds=0, microseconds=0,milliseconds=0, minutes=0, hours=1, weeks=0)\n",
    "time_len = int((end_time-begin_time)/td_15min +1)\n",
    "print(time_len)\n",
    "# 此处为运行出来的结果\n",
    "TimeRange=['2013-01-01 12:00:00', '2022-04-01 12:00:00']"
   ]
  },
  {
   "cell_type": "code",
   "execution_count": null,
   "metadata": {},
   "outputs": [],
   "source": [
    "def get_time_slot_index(dt):\n",
    "    return int((dt-begin_time)/td_15min)\n",
    "run=True\n",
    "if run:\n",
    "    # 2013-01-01 00:00:00\t2022-02-28 22:45:00\n",
    "    time_format ='%m/%d/%Y %I:%M:%S %p'\n",
    "    TrafficGrid = np.zeros([time_len, w, h])\n",
    "    reader = pd.read_csv('H:\\时空预测\\code1_TaxiDatasetPropose\\Chicago Taxi\\Taxi_Trips\\Taxi_Trips.csv', chunksize=4000)\n",
    "    for chunk in reader:\n",
    "        chunk.drop(chunk[np.isnan(chunk['Pickup Centroid Latitude'])].index, inplace=True)\n",
    "        for ind, row in chunk.iterrows():\n",
    "            lat = row['Pickup Centroid Latitude']\n",
    "            lng = row['Pickup Centroid Longitude']\n",
    "            i, j = get_grid_index(lat, lng)\n",
    "            try:\n",
    "                dt = datetime.datetime.strptime(row['Trip Start Timestamp'], time_format)\n",
    "                TrafficGrid[get_time_slot_index(dt), i, j] += 1\n",
    "                # 共打印12305次\n",
    "                if ind % 10000==0:\n",
    "                    print(dt)\n",
    "                    # print(TrafficGrid[get_time_slot_index(dt)])\n",
    "            except:\n",
    "                print('出错！')"
   ]
  },
  {
   "cell_type": "code",
   "execution_count": null,
   "metadata": {},
   "outputs": [],
   "source": [
    "if run:\n",
    "    las_has_data=TrafficGrid.shape[0]\n",
    "    for i in range(TrafficGrid.shape[0]-1, 0, -1):\n",
    "        if not(np.any(TrafficGrid[i])): # if all zeros, mean that there is no traffic data\n",
    "            continue\n",
    "        else:\n",
    "            las_has_data = i+1\n",
    "            break\n",
    "    np.save(\"tol_arr.npy\", TrafficGrid)\n",
    "    np.save(\"arr_with_data.npy\", TrafficGrid[0:las_has_data,:,:])\n",
    "    print(TrafficGrid.shape[0], las_has_data)"
   ]
  },
  {
   "cell_type": "code",
   "execution_count": null,
   "metadata": {},
   "outputs": [],
   "source": [
    "# 总共加了122,963,134，总共数据条数139,600,000\n",
    "tg_sum = TrafficGrid.sum()\n",
    "tg_sum "
   ]
  },
  {
   "cell_type": "code",
   "execution_count": null,
   "metadata": {},
   "outputs": [],
   "source": [
    "arr = np.load('arr_with_data.npy')\n",
    "arr = np.sum(arr, axis=0)"
   ]
  },
  {
   "cell_type": "markdown",
   "metadata": {},
   "source": [
    "## 绘制"
   ]
  },
  {
   "cell_type": "code",
   "execution_count": null,
   "metadata": {},
   "outputs": [],
   "source": [
    "sm = False\n",
    "save_fig = True\n",
    "sfx = 'times'"
   ]
  },
  {
   "cell_type": "markdown",
   "metadata": {},
   "source": [
    "### 绘制三维投影面"
   ]
  },
  {
   "cell_type": "code",
   "execution_count": null,
   "metadata": {},
   "outputs": [],
   "source": [
    "def softmax(x):\n",
    "    max = np.max(x,axis=1,keepdims=True) #returns max of each row and keeps same dims\n",
    "    e_x = np.exp(x - max) #subtracts each row with its max value\n",
    "    sum = np.sum(e_x,axis=1,keepdims=True) #returns sum of each row and keeps same dims\n",
    "    f_x = e_x / sum \n",
    "    return f_x"
   ]
  },
  {
   "cell_type": "code",
   "execution_count": null,
   "metadata": {},
   "outputs": [],
   "source": [
    "import numpy as np\n",
    "import matplotlib.pyplot as plt\n",
    "from matplotlib import cm\n",
    "from mpl_toolkits.mplot3d import Axes3D\n",
    "plt.rcParams['font.sans-serif']=['SimHei'] # 用来正常显示中文标签\n",
    "plt.rcParams['axes.unicode_minus']=False # 用来正常显示负号\n",
    "\n",
    "\n",
    "X_BOUND = [0, len(arr)]\n",
    "Y_BOUND = [0, len(arr[0])]\n",
    "\n",
    "#绘制3D图形\n",
    "#def plot_3d(ax):\\\n",
    "ax = plt.axes(projection='3d')\n",
    "X = np.array(list(range(len(arr))))\n",
    "Y = np.array(list(range(len(arr[0]))))\n",
    "X, Y = np.meshgrid(X, Y)#坐标矩阵，每个交叉点对应网格\n",
    "Z = softmax(arr) if sm else arr\n",
    "    # 绘制3D图形，X,Y,Z:2D数组形式的数据值\n",
    "    #rstride:数组行距（步长大小）\n",
    "    #cstride:数组列距(步长大小）\n",
    "    #cmap:曲面块颜色映射\n",
    "    #color:曲面块颜色\n",
    "font2 = {'family': 'Times New Roman',\n",
    "             'weight': 'normal',\n",
    "             'size': 14,\n",
    "             }\n",
    "ax.plot_surface(X, Y, Z, rstride=1, cstride=1, cmap=cm.coolwarm)\n",
    "# ax.set_zlim(-5, 20)\n",
    "ax.set_xlabel('x')\n",
    "ax.set_ylabel('y')\n",
    "ax.set_zlabel('z',font2)\n",
    "ax.set_title('Ackley',font2)\n",
    "\n",
    "#plt.yticks(fontproperties='Times New Roman', size=14)\n",
    "#plt.xticks(fontproperties='Times New Roman', size=14)\n",
    "    # 设置横纵坐标的名称以及对应字体格式\n",
    "    #\n",
    "plt.xlabel('x1', font2)\n",
    "plt.ylabel('x2', font2)\n",
    "\n",
    "ax.contourf(X, Y, Z, zdir='z',offset=-5)\n",
    "if save_fig:\n",
    "    plt.savefig(f'./{sfx}{\"softmax_\" if sm else \"\"}Ackley.png',dpi=1200)\n",
    "plt.show()\n",
    "\n",
    "if __name__ == \"__main__\":\n",
    "    #绘制函数三维图像\n",
    "    fig = plt.figure()\n",
    "    ax = Axes3D(fig)\n",
    "    #plot_3d(ax)\n"
   ]
  },
  {
   "cell_type": "markdown",
   "metadata": {},
   "source": [
    "### 绘制3D柱状图"
   ]
  },
  {
   "cell_type": "code",
   "execution_count": null,
   "metadata": {},
   "outputs": [],
   "source": [
    "import numpy as np\n",
    "import matplotlib.pyplot as plt\n",
    "from mpl_toolkits.mplot3d import Axes3D\n",
    " \n",
    "# 绘图设置\n",
    "fig = plt.figure()\n",
    "ax = fig.gca(projection='3d')  # 三维坐标轴\n",
    "# X和Y的个数要相同\n",
    "X = list(range(len(arr)))\n",
    "Y = list(range(len(arr)))\n",
    "Z = np.random.randint(0, 1000, len(X)*len(Y)) # 生成16个随机整数\n",
    "# meshgrid把X和Y变成平方长度，比如原来都是4，经过meshgrid和ravel之后，长度都变成了16，因为网格点是16个\n",
    "xx, yy = np.meshgrid(X, Y)  # 网格化坐标\n",
    "X, Y = xx.ravel(), yy.ravel()  # 矩阵扁平化\n",
    "# 设置柱子属性\n",
    "height = np.zeros_like(Z) # 新建全0数组，shape和Z相同，据说是图中底部的位置\n",
    "width = depth = 0.2 # 柱子的长和宽\n",
    "# 颜色数组，长度和Z一致\n",
    "c = ['r']*len(Z)\n",
    "# 开始画图，注意本来的顺序是X, Y, Z, width, depth, height，但是那样会导致不能形成柱子，只有柱子顶端薄片，所以Z和height要互换\n",
    "ax.bar3d(X, Y, height, width, depth, (softmax(arr) if sm else arr).reshape([w*h,]),  color=c, shade=False)  # width, depth, height\n",
    "ax.set_xlabel('X')\n",
    "ax.set_ylabel('Y')\n",
    "ax.set_zlabel('Z')\n",
    "if save_fig:\n",
    "    plt.savefig(f'./{sfx}{\"softmax_\" if sm else \"\"}3D_col.png', dpi=1200)"
   ]
  },
  {
   "cell_type": "code",
   "execution_count": null,
   "metadata": {},
   "outputs": [],
   "source": [
    "for x in arr:\n",
    "    for t in x:\n",
    "        print(t, end='\\t')\n",
    "    print()"
   ]
  },
  {
   "cell_type": "code",
   "execution_count": null,
   "metadata": {},
   "outputs": [],
   "source": [
    "arr_times = np.load('arr_with_data.npy')\n",
    "print(arr_times.shape)\n",
    "for i in range(len(arr_times)):\n",
    "    if i % 10000==0:\n",
    "        print(i)\n",
    "    for j in range(30):\n",
    "        for k in range(30):\n",
    "            if arr_times[i][j][k] >= 1:\n",
    "                arr_times[i][j][k] = 1\n",
    "np.save(\"arr_hasdata_time.npy\", arr_times)"
   ]
  },
  {
   "cell_type": "code",
   "execution_count": null,
   "metadata": {},
   "outputs": [],
   "source": [
    "arr_sum = (np.sum(arr, axis=0))"
   ]
  },
  {
   "cell_type": "code",
   "execution_count": null,
   "metadata": {},
   "outputs": [],
   "source": [
    "\n",
    "for x in arr_sum:\n",
    "    for t in x:\n",
    "        print(t, end='\\t')\n",
    "    print()"
   ]
  },
  {
   "cell_type": "markdown",
   "metadata": {},
   "source": [
    "## Build ['Grid']['GridLatLng']"
   ]
  },
  {
   "cell_type": "code",
   "execution_count": null,
   "metadata": {},
   "outputs": [],
   "source": [
    "max_lat,min_lat,max_lng,min_lng\n",
    "unit_lat, unit_lng\n",
    "\n",
    "GridLatLng = [[min_lat, min_lng]]\n",
    "for i in range(1, w+1):\n",
    "    for j in range(1, h+1):\n",
    "        GridLatLng.append([min_lat+i*unit_lat, min_lng+i*unit_lng])\n"
   ]
  },
  {
   "cell_type": "markdown",
   "metadata": {},
   "source": [
    "# Build TimeFitness、Time Range and LenTimeSlots"
   ]
  },
  {
   "cell_type": "code",
   "execution_count": null,
   "metadata": {},
   "outputs": [],
   "source": [
    "TimeFitness = 15\n",
    "TimeRange = [begin_time.strftime('%Y-%m-%d'), end_time.strftime('%Y-%m-%d')]\n",
    "print(TimeRange)\n",
    "LenTimeSlots = time_len"
   ]
  },
  {
   "cell_type": "markdown",
   "metadata": {},
   "source": [
    "# Build Node"
   ]
  },
  {
   "cell_type": "markdown",
   "metadata": {},
   "source": [
    "## find node"
   ]
  },
  {
   "cell_type": "code",
   "execution_count": null,
   "metadata": {},
   "outputs": [],
   "source": [
    "data =np.load('arr_hasdata_time.npy')"
   ]
  },
  {
   "cell_type": "markdown",
   "metadata": {},
   "source": [
    "threshold = $\\alpha \\times len(data)$\n",
    "\n",
    "意味如果超过$(1-\\alpha)$的时间没有数据，则不考虑"
   ]
  },
  {
   "cell_type": "code",
   "execution_count": null,
   "metadata": {},
   "outputs": [],
   "source": [
    "print(len(data))\n",
    "shld = 0.01 * len(data)\n",
    "print(shld)\n",
    "# shld = 10\n",
    "\n",
    "l = 500\n",
    "\n",
    "data_times = np.sum(data, axis=0)\n",
    "lis = []\n",
    "for i in range(len(data_times)):\n",
    "    for j in range(len(data_times[0])):\n",
    "        if data_times[i][j] > shld:\n",
    "            lis.append([i,j,data_times[i][j]])\n",
    "print(f'剩余网格个数：{len(lis)}')\n",
    "lis = sorted(lis, key=lambda t: t[2], reverse=True)\n",
    "ma, mi = int(lis[0][2]), int(lis[-1][2]) # 1, 57663\n",
    "print(mi, ma)\n",
    "\n",
    "# 统计剩下的所有数据中，长度为l的区间内的数据个数\n",
    "cnts = []\n",
    "for d in range(mi, ma, l):\n",
    "    cnt = 0\n",
    "    for t in lis:\n",
    "        if t[2] >= d and t[2] < d+l:\n",
    "            cnt+=1\n",
    "    cnts.append(cnt)\n",
    "plt.plot(range(mi, ma, l), cnts)"
   ]
  },
  {
   "cell_type": "markdown",
   "metadata": {},
   "source": [
    "由于$\\alpha$取0.01时剩余150个网格，每个网格划分$4\\times4$的小网格，共有2400个节点\n",
    "\n",
    "将需要$ 81049\\times2400\\times4 B=742MB$内存存储"
   ]
  },
  {
   "cell_type": "markdown",
   "metadata": {},
   "source": [
    "## Build StationInfo"
   ]
  },
  {
   "cell_type": "code",
   "execution_count": null,
   "metadata": {},
   "outputs": [],
   "source": [
    "div = 4\n",
    "\n",
    "tiny_w = w * div\n",
    "tiny_h = h * div\n",
    "tiny_unit_lat=(max_lat-min_lat)/tiny_h\n",
    "tiny_unit_lng=(max_lng-min_lng)/tiny_w\n",
    "\n",
    "\n",
    "# 新定义 480*480 的小网格\n",
    "def get_tiny_grid_index(lat, lng):\n",
    "    assert lat >= min_lat and lat <= max_lat\n",
    "    assert lng >= min_lng and lng <= max_lng\n",
    "    return int((lat-min_lat)/tiny_unit_lat) if lat<max_lat else tiny_h-1, int((lng-min_lng)/tiny_unit_lat) if lng<max_lng else tiny_w-1\n",
    "\n",
    "tiny_grid_to_nodeid = [[-1 for _ in range(tiny_w)] for _ in range(tiny_h)]\n",
    "\n",
    "StationInfo = []\n",
    "\n",
    "ind = 0\n",
    "for t in lis:\n",
    "    i, j = t[0], t[1]\n",
    "    tiny_i = i*div\n",
    "    tiny_j = j*div\n",
    "    for k in range(div):\n",
    "        for l in range(div):\n",
    "            new_i = tiny_i+k\n",
    "            new_j = tiny_j+l\n",
    "            tiny_grid_to_nodeid[new_i][new_j] = ind\n",
    "            StationInfo.append([hash((new_i, new_j)), TimeRange[0], \n",
    "            min_lat+tiny_i*tiny_unit_lat, min_lng+tiny_j*unit_lng, \n",
    "            f'node-({new_i},{new_j})'])\n",
    "            ind+=1\n",
    "print(ind)\n",
    "print(StationInfo[:2])"
   ]
  },
  {
   "cell_type": "code",
   "execution_count": null,
   "metadata": {},
   "outputs": [],
   "source": [
    "# del TrafficGrid\n",
    "TrafficNode = np.zeros([time_len, ind])\n",
    "print(time_len, ind)\n",
    "# 2013-01-01 00:00:00\t2022-02-28 22:45:00\n",
    "time_format ='%m/%d/%Y %I:%M:%S %p'\n",
    "reader = pd.read_csv('H:\\时空预测\\Chicago Taxi\\Taxi_Trips\\Taxi_Trips.csv', chunksize=4000)\n",
    "for chunk in reader:\n",
    "    chunk.drop(chunk[np.isnan(chunk['Pickup Centroid Latitude'])].index, inplace=True)\n",
    "    for ind, row in chunk.iterrows():\n",
    "        lat = row['Pickup Centroid Latitude']\n",
    "        lng = row['Pickup Centroid Longitude']\n",
    "        # print(lat, lng)\n",
    "        i, j = get_tiny_grid_index(lat, lng)\n",
    "        try:\n",
    "            # print(i, j)\n",
    "            dt = datetime.datetime.strptime(row['Trip Start Timestamp'], time_format)\n",
    "            # print(dt, get_time_slot_index(dt))\n",
    "            # print(tiny_grid_to_nodeid[i][j])\n",
    "            TrafficNode[get_time_slot_index(dt)][tiny_grid_to_nodeid[i][j]] += 1\n",
    "            # 共打印12305次\n",
    "            if ind % 10000==0:\n",
    "                print(dt)\n",
    "                # print(TrafficGrid[get_time_slot_index(dt)])\n",
    "        except:\n",
    "            print('出错！')"
   ]
  },
  {
   "cell_type": "code",
   "execution_count": null,
   "metadata": {},
   "outputs": [],
   "source": [
    "np.save(\"TrafficNode.npy\", TrafficNode)"
   ]
  },
  {
   "cell_type": "markdown",
   "metadata": {},
   "source": [
    "# Build Dict"
   ]
  },
  {
   "cell_type": "code",
   "execution_count": null,
   "metadata": {},
   "outputs": [],
   "source": [
    "ds = {\n",
    "    'TimeFitness':TimeFitness,\n",
    "    'TimeRange':TimeRange,\n",
    "    'Node':{\n",
    "        'TrafficNode':None,\n",
    "        'TrafficMonthlyInteraction':None,\n",
    "        'StationInfo':None,\n",
    "        'POI':[]\n",
    "    },\n",
    "    'Grid':{\n",
    "        'TrafficGrid':TrafficGrid,\n",
    "        'GridLatLng':GridLatLng,\n",
    "        'POI':[]\n",
    "    },\n",
    "    'ExternalFeature':{\n",
    "        \n",
    "    }\n",
    "}"
   ]
  }
 ],
 "metadata": {
  "interpreter": {
   "hash": "3f41118f9783daefdadd64353b2f24d85f05952d806d6c8a342fb4a959dbe666"
  },
  "kernelspec": {
   "display_name": "Python 3.7.13 ('jj')",
   "language": "python",
   "name": "python3"
  },
  "language_info": {
   "codemirror_mode": {
    "name": "ipython",
    "version": 3
   },
   "file_extension": ".py",
   "mimetype": "text/x-python",
   "name": "python",
   "nbconvert_exporter": "python",
   "pygments_lexer": "ipython3",
   "version": "3.7.13"
  },
  "orig_nbformat": 4
 },
 "nbformat": 4,
 "nbformat_minor": 2
}
