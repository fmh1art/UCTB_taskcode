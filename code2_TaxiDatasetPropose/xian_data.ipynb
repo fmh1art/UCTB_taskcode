{
 "cells": [
  {
   "cell_type": "code",
   "execution_count": 1,
   "metadata": {},
   "outputs": [],
   "source": [
    "import numpy as np\n",
    "import pandas as pd\n",
    "import pickle as pkl\n",
    "import seaborn as sns\n",
    "import json\n",
    "import os\n",
    "import matplotlib.pyplot as plt\n",
    "from matplotlib import cm\n",
    "from mpl_toolkits.mplot3d import Axes3D\n",
    "from math import radians, sin\n",
    "from pyecharts.charts import Geo\n",
    "from pyecharts import options as opts\n",
    "from pyecharts.globals import ThemeType\n",
    "from pyecharts.globals import CurrentConfig, NotebookType\n",
    "\n",
    "\n",
    "plt.rcParams['font.sans-serif']=['SimHei'] # 用来正常显示中文标签\n",
    "plt.rcParams['axes.unicode_minus']=False # 用来正常显示负号\n",
    "# 经度, 纬度, 经度, 纬度\n",
    "def area(lon1, lat1, lon2, lat2):\n",
    "    lon1, lat1, lon2, lat2 = map(radians, [lon1, lat1, lon2, lat2])\n",
    "    r = 6372\n",
    "    return abs(r**2 * (lon2 - lon1) * (sin(lat2) - sin(lat1)))"
   ]
  },
  {
   "cell_type": "code",
   "execution_count": 2,
   "metadata": {},
   "outputs": [
    {
     "name": "stdout",
     "output_type": "stream",
     "text": [
      "h:\\时空预测\\滴滴网约车数据\n"
     ]
    }
   ],
   "source": [
    "%cd ../滴滴网约车数据"
   ]
  },
  {
   "cell_type": "markdown",
   "metadata": {},
   "source": [
    "# 加载数据"
   ]
  },
  {
   "cell_type": "code",
   "execution_count": 3,
   "metadata": {},
   "outputs": [
    {
     "name": "stdout",
     "output_type": "stream",
     "text": [
      "(1440, 256, 256)\n",
      "(17280, 16, 16)\n",
      "<class 'dict'> 119018\n"
     ]
    }
   ],
   "source": [
    "Monthly_Interaction = np.load('xian_npydata/Monthly_Interaction.npy')\n",
    "Traffic_Grid = np.load('xian_npydata/Traffic_Grid.npy')\n",
    "with open('xian/xian_gps_20161001.json', 'r') as f:\n",
    "    json_sample = json.load(f)\n",
    "print(Monthly_Interaction.shape) # (1440, 256, 256), \n",
    "print(Traffic_Grid.shape) # (17280, 16, 16)\n",
    "print(type(json_sample), len(json_sample)) # 一天的数据为119018条"
   ]
  },
  {
   "cell_type": "code",
   "execution_count": 4,
   "metadata": {},
   "outputs": [
    {
     "name": "stdout",
     "output_type": "stream",
     "text": [
      "648049 13466470\n"
     ]
    }
   ],
   "source": [
    "def getfiles(dir):\n",
    "    filenames=os.listdir(dir)\n",
    "    return filenames\n",
    "loc = {}\n",
    "for fn in getfiles('xian'):\n",
    "    with open('xian/'+fn, 'r') as f:\n",
    "        js = json.load(f)\n",
    "        for k in js:\n",
    "            for t in js[k]:\n",
    "                tmp = tuple(t[2:4])\n",
    "                if tmp in loc:\n",
    "                    loc[tmp] += 1\n",
    "                else:\n",
    "                    loc[tmp] = 1\n",
    "# 648049, 12818421\n",
    "print(len(loc), sum(list(loc.values())))"
   ]
  },
  {
   "cell_type": "markdown",
   "metadata": {},
   "source": [
    "# 构建网格 和 定义参数"
   ]
  },
  {
   "cell_type": "markdown",
   "metadata": {},
   "source": [
    "## 查看每个经纬度的流量分布"
   ]
  },
  {
   "cell_type": "code",
   "execution_count": 5,
   "metadata": {},
   "outputs": [
    {
     "name": "stdout",
     "output_type": "stream",
     "text": [
      "[9247, 8825, 8429, 8194, 8155, 8075, 7775, 7660, 7569, 7531]\n",
      "[1, 1, 1, 1, 1, 1, 1, 1, 1, 1, 1, 1, 1, 1, 1, 1, 1, 1, 1, 1, 1, 1, 1, 1, 1, 1, 1, 1, 1, 1, 1, 1, 1, 1, 1, 1, 1, 1, 1, 1, 1, 1, 1, 1, 1, 1, 1, 1, 1, 1, 1, 1, 1, 1, 1, 1, 1, 1, 1, 1, 1, 1, 1, 1, 1, 1, 1, 1, 1, 1, 1, 1, 1, 1, 1, 1, 1, 1, 1, 1, 1, 1, 1, 1, 1, 1, 1, 1, 1, 1, 1, 1, 1, 1, 1, 1, 1, 1, 1, 1]\n"
     ]
    }
   ],
   "source": [
    "traff = sorted(loc.items(), key=lambda t: t[1], reverse=True)\n",
    "print([t[1] for t in traff[:10]])\n",
    "print([t[1] for t in traff[-10000:-9900]])"
   ]
  },
  {
   "cell_type": "markdown",
   "metadata": {},
   "source": [
    "## 是否剔除哪些流量小的经纬度"
   ]
  },
  {
   "cell_type": "code",
   "execution_count": 6,
   "metadata": {},
   "outputs": [
    {
     "name": "stdout",
     "output_type": "stream",
     "text": [
      "0,50,100,150,200,250,300,350,400,450,500,550,600,650,700,750,800,850,900,950,1000,1050,1100,1150,1200,1250,1300,1350,1400,1450,1500,1550,1600,1650,1700,1750,1800,1850,1900,1950,2000,2050,2100,2150,2200,2250,2300,2350,2400,2450,2500,2550,2600,2650,2700,2750,2800,2850,2900,2950,3000,3050,3100,3150,3200,3250,3300,3350,3400,3450,3500,3550,3600,3650,3700,3750,3800,3850,3900,3950,4000,4050,4100,4150,4200,4250,4300,4350,4400,4450,"
     ]
    },
    {
     "data": {
      "image/png": "[encoded data removed]",
      "text/plain": [
       "<Figure size 432x288 with 1 Axes>"
      ]
     },
     "metadata": {
      "needs_background": "light"
     },
     "output_type": "display_data"
    }
   ],
   "source": [
    "res = {'threshold':[], 'size':[], 'min_lng':[], 'min_lat':[], 'max_lng':[], 'max_lat':[]}\n",
    "for shld in range(0, 4500, 50): # 低于shld的流量直接抛弃\n",
    "    max_lat,min_lat,max_lng,min_lng=-1000, 1000, -1000, 1000\n",
    "    for x in loc:\n",
    "        if loc[x] > shld:\n",
    "            lng = x[0]\n",
    "            lat = x[1]\n",
    "            max_lat = max(max_lat, lat)\n",
    "            min_lat = min(min_lat, lat)\n",
    "            max_lng = max(max_lng, lng)\n",
    "            min_lng = min(min_lng, lng)\n",
    "    res['min_lng'].append(min_lng)\n",
    "    res['min_lat'].append(min_lat)\n",
    "    res['max_lng'].append(max_lng)\n",
    "    res['max_lat'].append(max_lat)\n",
    "\n",
    "    res['threshold'].append(shld)\n",
    "    res['size'].append(area(lon1=min_lng, lat1=min_lat, lon2=max_lng, lat2=max_lat))\n",
    "    print(shld, end=',')\n",
    "    # print(max_lat,min_lat,max_lng,min_lng,sep=',')\n",
    "shld_size_df = pd.DataFrame.from_dict(res)\n",
    "# print(shld_size_df)\n",
    "plt.plot(res['threshold'], res['size'])\n",
    "plt.show()\n",
    "shld_size_df.to_csv('../地理围栏/shld_size_df.csv')"
   ]
  },
  {
   "cell_type": "markdown",
   "metadata": {},
   "source": [
    "## 定义网格"
   ]
  },
  {
   "cell_type": "code",
   "execution_count": 7,
   "metadata": {},
   "outputs": [],
   "source": [
    "min_lng,min_lat,max_lng,max_lat = 108.91114,34.20531,108.9986,34.28024\n",
    "w, h = 1000, 1000\n",
    "unit_lat=(max_lat-min_lat)/h\n",
    "unit_lng=(max_lng-min_lng)/w\n",
    "def get_grid_index(lng, lat):\n",
    "    assert lat >= min_lat and lat <= max_lat\n",
    "    assert lng >= min_lng and lng <= max_lng\n",
    "    # lower_left of grid[i][j], 0<=i,j<30\n",
    "    return int((lng-min_lng)/unit_lng) if lng<max_lng else w-1, int((lat-min_lat)/unit_lat) if lat<max_lat else h-1\n",
    "\n",
    "def get_lng_lat(i, j):\n",
    "    assert i >= 0 and i < w\n",
    "    assert j >= 0 and j < h\n",
    "    return min_lng+i*unit_lng, min_lat+j*unit_lat"
   ]
  },
  {
   "cell_type": "code",
   "execution_count": 8,
   "metadata": {},
   "outputs": [],
   "source": [
    "Traffic_Grid = np.zeros([w, h])\n",
    "for k in loc:\n",
    "    x, y = get_grid_index(k[0], k[1])\n",
    "    Traffic_Grid[x][y] += loc[k]"
   ]
  },
  {
   "cell_type": "code",
   "execution_count": 15,
   "metadata": {},
   "outputs": [
    {
     "name": "stdout",
     "output_type": "stream",
     "text": [
      "shld-100_tol-2719.pkl has been saved!\n",
      "shld-150_tol-2553.pkl has been saved!\n",
      "shld-200_tol-2243.pkl has been saved!\n",
      "shld-250_tol-2001.pkl has been saved!\n",
      "shld-300_tol-1751.pkl has been saved!\n",
      "shld-350_tol-1538.pkl has been saved!\n",
      "shld-400_tol-1348.pkl has been saved!\n",
      "shld-450_tol-1154.pkl has been saved!\n",
      "shld-500_tol-996.pkl has been saved!\n",
      "shld-550_tol-911.pkl has been saved!\n",
      "shld-600_tol-796.pkl has been saved!\n",
      "shld-650_tol-725.pkl has been saved!\n",
      "shld-700_tol-638.pkl has been saved!\n",
      "shld-750_tol-593.pkl has been saved!\n",
      "shld-800_tol-550.pkl has been saved!\n",
      "shld-850_tol-514.pkl has been saved!\n",
      "shld-900_tol-459.pkl has been saved!\n",
      "shld-950_tol-418.pkl has been saved!\n",
      "shld-1000_tol-395.pkl has been saved!\n",
      "shld-1050_tol-356.pkl has been saved!\n",
      "shld-1100_tol-333.pkl has been saved!\n",
      "shld-1150_tol-306.pkl has been saved!\n",
      "shld-1200_tol-288.pkl has been saved!\n",
      "shld-1250_tol-272.pkl has been saved!\n",
      "shld-1300_tol-252.pkl has been saved!\n",
      "shld-1350_tol-231.pkl has been saved!\n",
      "shld-1400_tol-221.pkl has been saved!\n",
      "shld-1450_tol-206.pkl has been saved!\n",
      "shld-1500_tol-193.pkl has been saved!\n",
      "shld-1550_tol-176.pkl has been saved!\n",
      "shld-1600_tol-171.pkl has been saved!\n",
      "shld-1650_tol-170.pkl has been saved!\n",
      "shld-1700_tol-164.pkl has been saved!\n",
      "shld-1750_tol-154.pkl has been saved!\n",
      "shld-1800_tol-144.pkl has been saved!\n",
      "shld-1850_tol-140.pkl has been saved!\n",
      "shld-1900_tol-136.pkl has been saved!\n",
      "shld-1950_tol-132.pkl has been saved!\n",
      "shld-2000_tol-127.pkl has been saved!\n",
      "shld-2050_tol-123.pkl has been saved!\n",
      "shld-2100_tol-122.pkl has been saved!\n",
      "shld-2150_tol-117.pkl has been saved!\n",
      "shld-2200_tol-114.pkl has been saved!\n",
      "shld-2250_tol-107.pkl has been saved!\n",
      "shld-2300_tol-105.pkl has been saved!\n",
      "shld-2350_tol-104.pkl has been saved!\n",
      "shld-2400_tol-101.pkl has been saved!\n",
      "shld-2450_tol-96.pkl has been saved!\n",
      "shld-2500_tol-93.pkl has been saved!\n",
      "shld-2550_tol-94.pkl has been saved!\n",
      "shld-2600_tol-94.pkl has been saved!\n",
      "shld-2650_tol-93.pkl has been saved!\n",
      "shld-2700_tol-92.pkl has been saved!\n",
      "shld-2750_tol-91.pkl has been saved!\n",
      "shld-2800_tol-91.pkl has been saved!\n",
      "shld-2850_tol-91.pkl has been saved!\n",
      "shld-2900_tol-88.pkl has been saved!\n",
      "shld-2950_tol-88.pkl has been saved!\n",
      "shld-3000_tol-86.pkl has been saved!\n",
      "shld-3050_tol-85.pkl has been saved!\n",
      "shld-3100_tol-83.pkl has been saved!\n",
      "shld-3150_tol-82.pkl has been saved!\n",
      "shld-3200_tol-81.pkl has been saved!\n",
      "shld-3250_tol-80.pkl has been saved!\n",
      "shld-3300_tol-79.pkl has been saved!\n",
      "shld-3350_tol-78.pkl has been saved!\n",
      "shld-3400_tol-76.pkl has been saved!\n",
      "shld-3450_tol-75.pkl has been saved!\n",
      "shld-3500_tol-75.pkl has been saved!\n",
      "shld-3550_tol-74.pkl has been saved!\n",
      "shld-3600_tol-74.pkl has been saved!\n",
      "shld-3650_tol-73.pkl has been saved!\n",
      "shld-3700_tol-71.pkl has been saved!\n",
      "shld-3750_tol-71.pkl has been saved!\n",
      "shld-3800_tol-71.pkl has been saved!\n",
      "shld-3850_tol-71.pkl has been saved!\n",
      "shld-3900_tol-71.pkl has been saved!\n",
      "shld-3950_tol-71.pkl has been saved!\n"
     ]
    }
   ],
   "source": [
    "res = {'shld':[], 'cnt':[]}\n",
    "saved_cnt = [200]\n",
    "\n",
    "shld_determined = True\n",
    "\n",
    "# for shld in range(100, 4000, 50):\n",
    "for shld in saved_cnt:\n",
    "    heat_map_artificial = np.zeros([w, h])\n",
    "    vis = [[False for j in range(h)] for i in range(w)]\n",
    "\n",
    "    dir = [\n",
    "        [0,1],\n",
    "        [0,-1],\n",
    "        [1, 0],\n",
    "        [-1, 0],\n",
    "        [-1,1],\n",
    "        [1,1],\n",
    "        [-1,-1],\n",
    "        [1,-1],\n",
    "    ]\n",
    "\n",
    "    def in_map(i, j):\n",
    "        return i>=0 and i<h and j>=0 and j<w\n",
    "\n",
    "    def dfs(i, j, flag):\n",
    "        vis[i][j] = True\n",
    "        heat_map_artificial[i][j] = flag\n",
    "        for k in range(len(dir)):\n",
    "            x = i+dir[k][0]\n",
    "            y = j+dir[k][1]\n",
    "            if in_map(x, y) and not vis[x][y] and Traffic_Grid[x][y] >= shld: # 如果没被访问\n",
    "                dfs(x, y, flag)\n",
    "\n",
    "    flag = 1\n",
    "    for i in range(w):\n",
    "        for j in range(h):\n",
    "            if not vis[i][j] and Traffic_Grid[i][j] >= shld:\n",
    "                dfs(i, j, flag)\n",
    "                flag += 1\n",
    "\n",
    "    if shld in saved_cnt:\n",
    "        with open(f'../地理围栏/shld-{shld}_tol-{flag}.pkl', 'wb') as f:\n",
    "            pkl.dump(heat_map_artificial, f)\n",
    "\n",
    "    res['shld'].append(shld)\n",
    "    res['cnt'].append(flag)\n",
    "    \n",
    "    print(f'shld-{shld}_tol-{flag}.pkl has been saved!')\n",
    "# plt.plot(res['shld'], res['cnt'])"
   ]
  },
  {
   "cell_type": "code",
   "execution_count": 27,
   "metadata": {},
   "outputs": [
    {
     "data": {
      "image/png": "[encoded data removed]",
      "text/plain": [
       "<Figure size 432x288 with 1 Axes>"
      ]
     },
     "metadata": {},
     "output_type": "display_data"
    }
   ],
   "source": [
    "if shld_determined == False:\n",
    "    import copy\n",
    "    import pandas as pd\n",
    "    import matplotlib.pyplot as plt\n",
    "    import pickle\n",
    "    import seaborn as sns\n",
    "    # 使用Savitzky-Golay 滤波器后得到平滑图线\n",
    "    from scipy.signal import savgol_filter\n",
    "\n",
    "    sns.set(style='darkgrid')\n",
    "\n",
    "    def draw_pic(res):\n",
    "        dlt = 0\n",
    "        clsu = [t+dlt*0.7 for t in res['cnt']]\n",
    "        clsd = [t-dlt for t in res['cnt']]\n",
    "\n",
    "        plt.plot(res['shld'],  res['cnt'], linewidth=1, color='r')\n",
    "\n",
    "        plt.fill_between(res['shld'], clsu, clsd, #上限，下限\n",
    "        facecolor='r', #填充颜色\n",
    "        alpha=0.3)\n",
    "\n",
    "        # plt.legend(loc=\"upper right\")\n",
    "        # plt.xlabel('step')\n",
    "        # plt.ylabel('loss')\n",
    "        \n",
    "        plt.savefig(rf'../地理围栏/shld_pic.png', dpi=1200)\n",
    "        plt.show()\n",
    "\n",
    "    draw_pic(res)"
   ]
  },
  {
   "cell_type": "markdown",
   "metadata": {},
   "source": [
    "## 绘图"
   ]
  },
  {
   "cell_type": "markdown",
   "metadata": {},
   "source": [
    "### 绘制热力图"
   ]
  },
  {
   "cell_type": "code",
   "execution_count": 10,
   "metadata": {},
   "outputs": [
    {
     "name": "stdout",
     "output_type": "stream",
     "text": [
      "108.95487 34.242774999999995\n"
     ]
    }
   ],
   "source": [
    "print((min_lng+max_lng)/2, (min_lat+max_lat)/2)"
   ]
  },
  {
   "cell_type": "code",
   "execution_count": 14,
   "metadata": {},
   "outputs": [],
   "source": [
    "# mode = 'draw_real_heatmap'\n",
    "mode = 'draw_grid_heatmap'\n",
    "\n",
    "lng_offset = 0.0065\n",
    "lat_offset = 0.0063\n",
    "\n",
    "if mode=='draw_real_heatmap':\n",
    "\twith open(f'../地理围栏/{mode}_points.txt', 'w') as f:\n",
    "\t\tfor k in loc:\n",
    "\t\t\tlat = k[1]\n",
    "\t\t\tlng = k[0]\n",
    "\t\t\tlat = lat+lat_offset-abs((min_lng+max_lng)/2-lng)/100\n",
    "\t\t\tlng = lng+lng_offset+((min_lng+max_lng)/2-lng)/500\n",
    "\t\t\tf.write('{' + f'\"lat\":{lat},\"lng\":{lng},\"count\":{loc[k]}' + '},\\n')\n",
    "if mode=='draw_grid_heatmap':\n",
    "\twith open(f'../地理围栏/{mode}_points.txt', 'w') as f:\n",
    "\t\tfor i in range(w):\n",
    "\t\t\tfor j in range(h):\n",
    "\t\t\t\tif heat_map_artificial[i][j] != 0:\n",
    "\t\t\t\t\tlng, lat = get_lng_lat(i, j)\n",
    "\t\t\t\t\tlat = lat+lat_offset-abs((min_lng+max_lng)/2-lng)/100\n",
    "\t\t\t\t\tlng = lng+lng_offset+((min_lng+max_lng)/2-lng)/500\n",
    "\t\t\t\t\tf.write(f'[{lng}, {lat}, {int(heat_map_artificial[i][j])}],\\n')\n",
    "\t\t\t\t\tf.write(f'[{lng+unit_lng}, {lat}, {int(heat_map_artificial[i][j])}],\\n')\n",
    "\t\t\t\t\tf.write(f'[{lng+unit_lng}, {lat+unit_lat}, {int(heat_map_artificial[i][j])}],\\n')\n",
    "\t\t\t\t\tf.write(f'[{lng}, {lat+unit_lat}, {int(heat_map_artificial[i][j])}],\\n')\n",
    "\n",
    "\t\t\t\t\t# f.write('{' + f'\"lat\":{lat},\"lng\":{lng}' + '},\\n')\n",
    "\t\t\t\t\t# f.write('{' + f'\"lat\":{lat},\"lng\":{lng+unit_lng}' + '},\\n')\n",
    "\t\t\t\t\t# f.write('{' + f'\"lat\":{lat+unit_lat},\"lng\":{lng}' + '},\\n')\n",
    "\t\t\t\t\t# f.write('{' + f'\"lat\":{lat+unit_lat},\"lng\":{lng+unit_lng}' + '},\\n')"
   ]
  },
  {
   "cell_type": "code",
   "execution_count": 17,
   "metadata": {},
   "outputs": [],
   "source": [
    "# # mode = 'draw_real_heatmap'\n",
    "# mode = 'draw_grid_heatmap'\n",
    "\n",
    "# lng_offset = 0.0065\n",
    "# lat_offset = 0.0063\n",
    "\n",
    "# if mode=='draw_real_heatmap':\n",
    "# \twith open(f'../地理围栏/{mode}_points.txt', 'w') as f:\n",
    "# \t\tfor k in loc:\n",
    "# \t\t\tf.write('{' + f'\"lat\":{k[1]},\"lng\":{k[0]},\"count\":{loc[k]}' + '},\\n')\n",
    "# if mode=='draw_grid_heatmap':\n",
    "# \twith open(f'../地理围栏/{mode}_points.txt', 'w') as f:\n",
    "# \t\tfor i in range(w):\n",
    "# \t\t\tfor j in range(h):\n",
    "# \t\t\t\tif heat_map_artificial[i][j] != 0:\n",
    "# \t\t\t\t\tlng, lat = get_lng_lat(i, j)\n",
    "                    \n",
    "# \t\t\t\t\tf.write('{' + f'\"lat\":{lat+lat_offset-abs((min_lng+max_lng)/2-lng)/100},\"lng\":{lng+lng_offset+((min_lng+max_lng)/2-lng)/500},\"count\":{100}' + '},\\n')"
   ]
  },
  {
   "cell_type": "markdown",
   "metadata": {},
   "source": [
    "结合map.html"
   ]
  },
  {
   "cell_type": "markdown",
   "metadata": {},
   "source": [
    "### 绘制三维柱状图"
   ]
  },
  {
   "cell_type": "code",
   "execution_count": 30,
   "metadata": {},
   "outputs": [
    {
     "name": "stderr",
     "output_type": "stream",
     "text": [
      "D:\\Miniconda3\\envs\\jj\\lib\\site-packages\\ipykernel_launcher.py:3: MatplotlibDeprecationWarning: Axes3D(fig) adding itself to the figure is deprecated since 3.4. Pass the keyword argument auto_add_to_figure=False and use fig.add_axes(ax) to suppress this warning. The default value of auto_add_to_figure will change to False in mpl3.5 and True values will no longer work in 3.6.  This is consistent with other Axes classes.\n",
      "  This is separate from the ipykernel package so we can avoid doing imports until\n"
     ]
    },
    {
     "data": {
      "image/png": "[encoded data removed]",
      "text/plain": [
       "<Figure size 432x288 with 2 Axes>"
      ]
     },
     "metadata": {
      "needs_background": "light"
     },
     "output_type": "display_data"
    }
   ],
   "source": [
    "def draw_3D_col(data):\n",
    "    fig = plt.figure()\n",
    "    ax = Axes3D(fig)\n",
    "\n",
    "    X_BOUND = [0, len(data)]\n",
    "    Y_BOUND = [0, len(data[0])]\n",
    "\n",
    "    #绘制3D图形\n",
    "    #def plot_3d(ax):\\\n",
    "    ax = plt.axes(projection='3d')\n",
    "    X = np.array(list(range(len(data))))\n",
    "    Y = np.array(list(range(len(data[0]))))\n",
    "    X, Y = np.meshgrid(X, Y) #坐标矩阵，每个交叉点对应网格\n",
    "    Z = data\n",
    "        # 绘制3D图形，X,Y,Z:2D数组形式的数据值\n",
    "        #rstride:数组行距（步长大小）\n",
    "        #cstride:数组列距(步长大小）\n",
    "        #cmap:曲面块颜色映射\n",
    "        #color:曲面块颜色\n",
    "    font2 = {'family': 'Times New Roman',\n",
    "                'weight': 'normal',\n",
    "                'size': 14,\n",
    "                }\n",
    "    ax.plot_surface(X, Y, Z, rstride=1, cstride=1, cmap=cm.coolwarm)\n",
    "    # ax.set_zlim(-5, 20)\n",
    "    ax.set_xlabel('x')\n",
    "    ax.set_ylabel('y')\n",
    "    ax.set_zlabel('z',font2)\n",
    "    ax.set_title('Ackley',font2)\n",
    "\n",
    "    #plt.yticks(fontproperties='Times New Roman', size=14)\n",
    "    #plt.xticks(fontproperties='Times New Roman', size=14)\n",
    "        # 设置横纵坐标的名称以及对应字体格式\n",
    "        #\n",
    "    plt.xlabel('x1', font2)\n",
    "    plt.ylabel('x2', font2)\n",
    "\n",
    "    ax.contourf(X, Y, Z, zdir='z',offset=-5)\n",
    "    plt.savefig('../地理围栏/3D_col_pic.png', dpi=1200)\n",
    "    # plt.show()\n",
    "\n",
    "draw_3D_col(heat_map_artificial)"
   ]
  },
  {
   "cell_type": "markdown",
   "metadata": {},
   "source": [
    "# 处理gpkg数据"
   ]
  },
  {
   "cell_type": "code",
   "execution_count": 5,
   "metadata": {},
   "outputs": [],
   "source": [
    "import pandas as pd\n",
    "import geopandas\n",
    "import matplotlib.pyplot as plt\n",
    "%matplotlib inline\n",
    "\n",
    "has_changed_to_csv = True\n",
    "\n",
    "def get_point_str(lng, lat):\n",
    "    return f'new BMap.Point({lng}, {lat}),'\n",
    "\n",
    "if has_changed_to_csv:\n",
    "    df = pd.read_csv(r'H:\\时空预测\\开源路网\\map.csv')"
   ]
  },
  {
   "cell_type": "code",
   "execution_count": null,
   "metadata": {},
   "outputs": [],
   "source": [
    "if has_changed_to_csv==False:\n",
    "    world = geopandas.read_file(r'H:\\时空预测\\开源路网\\tif2shp.gpkg')\n",
    "    # world.plot(figsize=(25, 30))\n",
    "    # plt.savefig(r'H:\\时空预测\\开源路网\\pic.png', dpi=2000)\n",
    "    # world['geometry'][0]\n",
    "    world.to_csv(r'H:\\时空预测\\开源路网\\map.csv')"
   ]
  },
  {
   "cell_type": "code",
   "execution_count": 21,
   "metadata": {},
   "outputs": [],
   "source": [
    "\"\"\"\n",
    "var polygon = new BMap.Polygon([\n",
    "\t\t\t\tnew BMap.Point(polys[i][0], polys[i][1]),\n",
    "\t\t\t\tnew BMap.Point(polys[i+1][0], polys[i+1][1]),\n",
    "\t\t\t\tnew BMap.Point(polys[i+2][0], polys[i+2][1]),\n",
    "\t\t\t\tnew BMap.Point(polys[i+3][0], polys[i+3][1]),\t\t\t\t\n",
    "\t\t\t\t], { strokeColor: \"#f50704\", fillColor: \"red\", strokeWeight: 1, strokeOpacity: 0, fillOpacity: 0.5, });\n",
    "\"\"\"\n",
    "lng_offset = 0.0111\n",
    "lat_offset = 0.0046\n",
    "\n",
    "with open(r'H:\\时空预测\\开源路网\\grid_polygon.txt', 'w') as f:\n",
    "    for t in df['geometry']:\n",
    "        t = str(t)\n",
    "        if 'POLYGON' in t:\n",
    "            f.write('var polygon = new BMap.Polygon(['+'\\n') # 输出头部\n",
    "            t = t.replace('POLYGON ((','').replace('))', '').replace('(','').replace(')','').replace(', ', ',')\n",
    "            for point in t.split(','):\n",
    "                lng_lat = point.split(' ')\n",
    "                if len(lng_lat) >= 2:\n",
    "                    lng = float(lng_lat[0])\n",
    "                    lat = float(lng_lat[1])\n",
    "                    lat = lat+lat_offset\n",
    "                    lng = lng+lng_offset\n",
    "                    # lat = lat+lat_offset-abs((min_lng+max_lng)/2-lng)/100\n",
    "                    # lng = lng+lng_offset+((min_lng+max_lng)/2-lng)/500\n",
    "                    f.write(get_point_str(lng, lat)+'\\n')\n",
    "            f.write('], { strokeColor: \"#f50704\", fillColor: \"red\", strokeWeight: 1, strokeOpacity: 0, fillOpacity: 0.5, });'+'\\n')\n",
    "            f.write('map.addOverlay(polygon);'+'\\n')"
   ]
  }
 ],
 "metadata": {
  "interpreter": {
   "hash": "3f41118f9783daefdadd64353b2f24d85f05952d806d6c8a342fb4a959dbe666"
  },
  "kernelspec": {
   "display_name": "Python 3.7.13 ('jj')",
   "language": "python",
   "name": "python3"
  },
  "language_info": {
   "codemirror_mode": {
    "name": "ipython",
    "version": 3
   },
   "file_extension": ".py",
   "mimetype": "text/x-python",
   "name": "python",
   "nbconvert_exporter": "python",
   "pygments_lexer": "ipython3",
   "version": "3.7.13"
  },
  "orig_nbformat": 4
 },
 "nbformat": 4,
 "nbformat_minor": 2
}
